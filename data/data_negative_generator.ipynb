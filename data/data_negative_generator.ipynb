{
 "cells": [
  {
   "cell_type": "code",
   "execution_count": 1,
   "metadata": {
    "collapsed": true
   },
   "outputs": [],
   "source": [
    "from random import *\n",
    "import numpy as np\n",
    "import pandas as pd"
   ]
  },
  {
   "cell_type": "code",
   "execution_count": 2,
   "metadata": {
    "collapsed": true
   },
   "outputs": [],
   "source": [
    "f = open('data_negative_sequences.fasta')\n",
    "chr_1 = f.read().replace('\\n', '')[100:].replace('N', '')\n",
    "f.close()"
   ]
  },
  {
   "cell_type": "code",
   "execution_count": 3,
   "metadata": {
    "collapsed": true
   },
   "outputs": [],
   "source": [
    "sequences = []\n",
    "for i in range(411 * 50):\n",
    "    x = randint(1, len(chr_1) - 100)\n",
    "    sequences.append(chr_1[x:x+100])"
   ]
  },
  {
   "cell_type": "code",
   "execution_count": 4,
   "metadata": {
    "collapsed": true
   },
   "outputs": [],
   "source": [
    "def makeHash(k, first_k = ['A', 'T', 'C', 'G']):\n",
    "    if k == 1:\n",
    "        return first_k\n",
    "    to_return = []\n",
    "    for i in first_k:\n",
    "        for j in makeHash(k - 1):\n",
    "            to_return.append(i + j)\n",
    "    return to_return\n",
    "\n",
    "hash_length = 6\n",
    "hash_table = np.array(makeHash(hash_length))"
   ]
  },
  {
   "cell_type": "code",
   "execution_count": 5,
   "metadata": {
    "collapsed": true
   },
   "outputs": [],
   "source": [
    "data = np.zeros((len(sequences), len(hash_table)))\n",
    "for j in range(len(sequences)):\n",
    "    for i in range(len(sequences[j]) - hash_length + 1):\n",
    "        index = np.where(hash_table == sequences[j][i:i+hash_length])[0][0]\n",
    "        data[j, index] += 1"
   ]
  },
  {
   "cell_type": "code",
   "execution_count": 6,
   "metadata": {
    "collapsed": true
   },
   "outputs": [],
   "source": [
    "output_frame = pd.DataFrame(data=data, index=sequences, columns=hash_table)\n",
    "#output_frame.to_csv('data_negative_hash.csv')"
   ]
  },
  {
   "cell_type": "code",
   "execution_count": null,
   "metadata": {
    "collapsed": true
   },
   "outputs": [],
   "source": []
  }
 ],
 "metadata": {
  "kernelspec": {
   "display_name": "Python 3",
   "language": "python",
   "name": "python3"
  },
  "language_info": {
   "codemirror_mode": {
    "name": "ipython",
    "version": 3
   },
   "file_extension": ".py",
   "mimetype": "text/x-python",
   "name": "python",
   "nbconvert_exporter": "python",
   "pygments_lexer": "ipython3",
   "version": "3.6.1"
  }
 },
 "nbformat": 4,
 "nbformat_minor": 2
}
