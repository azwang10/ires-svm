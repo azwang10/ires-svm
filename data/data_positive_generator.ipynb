{
 "cells": [
  {
   "cell_type": "code",
   "execution_count": 38,
   "metadata": {
    "collapsed": true
   },
   "outputs": [],
   "source": [
    "import pandas as pd\n",
    "import numpy as np"
   ]
  },
  {
   "cell_type": "code",
   "execution_count": 39,
   "metadata": {
    "collapsed": true
   },
   "outputs": [],
   "source": [
    "frame = pd.read_csv('mrna_display_human_ires_short.txt', header=None)"
   ]
  },
  {
   "cell_type": "code",
   "execution_count": 40,
   "metadata": {
    "collapsed": true
   },
   "outputs": [],
   "source": [
    "import matplotlib.pyplot as plt\n",
    "import seaborn as sns\n",
    "sns.set_context('poster')"
   ]
  },
  {
   "cell_type": "code",
   "execution_count": 54,
   "metadata": {},
   "outputs": [
    {
     "data": {
      "image/png": "[encoded data removed]",
      "text/plain": [
       "<matplotlib.figure.Figure at 0x12a9379b0>"
      ]
     },
     "metadata": {},
     "output_type": "display_data"
    }
   ],
   "source": [
    "lengths = np.array([len(i) for i in frame[0]], ndmin=2)\n",
    "plt.hist(lengths[0], bins=75)\n",
    "plt.show()"
   ]
  },
  {
   "cell_type": "code",
   "execution_count": 55,
   "metadata": {
    "collapsed": true
   },
   "outputs": [],
   "source": [
    "def makeHash(k, first_k = ['A', 'T', 'C', 'G']):\n",
    "    if k == 1:\n",
    "        return first_k\n",
    "    to_return = []\n",
    "    for i in first_k:\n",
    "        for j in makeHash(k - 1):\n",
    "            to_return.append(i + j)\n",
    "    return to_return\n",
    "\n",
    "hash_length = 6\n",
    "hash_table = np.array(makeHash(hash_length))"
   ]
  },
  {
   "cell_type": "code",
   "execution_count": 56,
   "metadata": {},
   "outputs": [
    {
     "data": {
      "text/plain": [
       "'\\ndata = np.zeros((len(frame), len(hash_table)))\\nfor j in range(len(frame)):\\n    for i in range(len(frame[0][j]) - hash_length + 1):\\n        index = np.where(hash_table == frame[0][j][i:i+hash_length])[0][0]\\n        data[j, index] += 1\\n'"
      ]
     },
     "execution_count": 56,
     "metadata": {},
     "output_type": "execute_result"
    }
   ],
   "source": [
    "data = np.zeros((len(frame), len(hash_table)))\n",
    "for j in range(len(frame)):\n",
    "    for i in range(len(frame[0][j]) - hash_length + 1):\n",
    "        index = np.where(hash_table == frame[0][j][i:i+hash_length])[0][0]\n",
    "        data[j, index] += 1\n",
    "        \n",
    "norm_counts = data / lengths.T * 100"
   ]
  },
  {
   "cell_type": "code",
   "execution_count": 94,
   "metadata": {
    "collapsed": true
   },
   "outputs": [],
   "source": [
    "output_frame = pd.DataFrame(data=norm_counts, index=frame[0], columns=hash_table)\n",
    "#output_frame.to_csv('positive_data.csv')"
   ]
  }
 ],
 "metadata": {
  "kernelspec": {
   "display_name": "Python 3",
   "language": "python",
   "name": "python3"
  },
  "language_info": {
   "codemirror_mode": {
    "name": "ipython",
    "version": 3
   },
   "file_extension": ".py",
   "mimetype": "text/x-python",
   "name": "python",
   "nbconvert_exporter": "python",
   "pygments_lexer": "ipython3",
   "version": "3.6.1"
  }
 },
 "nbformat": 4,
 "nbformat_minor": 2
}
